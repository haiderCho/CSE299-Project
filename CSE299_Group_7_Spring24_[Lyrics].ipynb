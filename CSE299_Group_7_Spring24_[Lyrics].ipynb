{
  "cells": [
    {
      "cell_type": "markdown",
      "metadata": {
        "id": "yVQqpOVNkR-1"
      },
      "source": [
        "# Music Recommendation system"
      ]
    },
    {
      "cell_type": "markdown",
      "metadata": {
        "id": "oY2P7_x0Tsa0"
      },
      "source": [
        "### CSE299.7 - Group 7 - Spring 2024"
      ]
    },
    {
      "cell_type": "markdown",
      "metadata": {
        "id": "GN4mCZApUS67"
      },
      "source": [
        "#### 👥Members\n",
        "\n",
        "  |                          Name                            |     ID     |\n",
        "  | -------------------------------------------------------- | ---------- |\n",
        "  |  [Nafiz Haider Chowdhury](https://github.com/haiderCho)  | 1721587042 |\n",
        "  |  [S.M Mahbubul Hasan](https://github.com/)  | 1921473642 |\n",
        "  |  [Tasnova Tabassum](https://github.com/)    | 2121463642 |\n",
        "\n",
        "\n",
        "---\n",
        "\n",
        "### 🔗[GitHub Repo](https://github.com/haiderCho/CSE299-Project-MRS)"
      ]
    },
    {
      "cell_type": "markdown",
      "metadata": {
        "id": "5fZM0cMPTScL"
      },
      "source": [
        "### Dependencies"
      ]
    },
    {
      "cell_type": "code",
      "execution_count": null,
      "metadata": {
        "id": "YeS2rboAS280"
      },
      "outputs": [],
      "source": [
        "import pandas as pd"
      ]
    },
    {
      "cell_type": "code",
      "execution_count": null,
      "metadata": {
        "colab": {
          "base_uri": "https://localhost:8080/"
        },
        "id": "KY-YvV5mYB_W",
        "outputId": "92d4a27c-41cb-4fd8-dd05-45d89939c7e5"
      },
      "outputs": [
        {
          "name": "stdout",
          "output_type": "stream",
          "text": [
            "Mounted at /content/drive\n"
          ]
        }
      ],
      "source": [
        "from google.colab import drive\n",
        "drive.mount('/content/drive')"
      ]
    },
    {
      "cell_type": "markdown",
      "metadata": {
        "id": "E785a42NS8XT"
      },
      "source": [
        "### Load the Data"
      ]
    },
    {
      "cell_type": "code",
      "execution_count": null,
      "metadata": {
        "id": "Y0kAaCYNlObD"
      },
      "outputs": [],
      "source": [
        "df = pd.read_csv(\"/content/drive/MyDrive/Project/CSE299/spotify_millsongdata.csv\")"
      ]
    },
    {
      "cell_type": "markdown",
      "metadata": {
        "id": "QO5Jez6Vuz4u"
      },
      "source": [
        "### The first 10 rows of the DataFrame"
      ]
    },
    {
      "cell_type": "code",
      "execution_count": null,
      "metadata": {
        "colab": {
          "base_uri": "https://localhost:8080/",
          "height": 363
        },
        "id": "hJO0WM0hu2EN",
        "outputId": "ac8e0197-5431-4d83-85ec-7e89db7821cf"
      },
      "outputs": [
        {
          "data": {
            "application/vnd.google.colaboratory.intrinsic+json": {
              "summary": "{\n  \"name\": \"df\",\n  \"rows\": 57650,\n  \"fields\": [\n    {\n      \"column\": \"artist\",\n      \"properties\": {\n        \"dtype\": \"category\",\n        \"num_unique_values\": 643,\n        \"samples\": [\n          \"Ziggy Marley\",\n          \"O.A.R.\",\n          \"Styx\"\n        ],\n        \"semantic_type\": \"\",\n        \"description\": \"\"\n      }\n    },\n    {\n      \"column\": \"song\",\n      \"properties\": {\n        \"dtype\": \"string\",\n        \"num_unique_values\": 44824,\n        \"samples\": [\n          \"Tear Me Down\",\n          \"Lakky Lady\",\n          \"They All Went To Mexico\"\n        ],\n        \"semantic_type\": \"\",\n        \"description\": \"\"\n      }\n    },\n    {\n      \"column\": \"link\",\n      \"properties\": {\n        \"dtype\": \"string\",\n        \"num_unique_values\": 57650,\n        \"samples\": [\n          \"/w/wishbone+ash/right+or+wrong_20147150.html\",\n          \"/a/aerosmith/this+little+light+of+mine_20644484.html\",\n          \"/f/fall+out+boy/dance+dance_10113666.html\"\n        ],\n        \"semantic_type\": \"\",\n        \"description\": \"\"\n      }\n    },\n    {\n      \"column\": \"text\",\n      \"properties\": {\n        \"dtype\": \"string\",\n        \"num_unique_values\": 57494,\n        \"samples\": [\n          \"When the grey skies turn to blue  \\r\\nAnd the dark clouds blow away  \\r\\nIn the morning of a new life  \\r\\nWhen the sun comes shining through  \\r\\nWhen the grey skies turn to blue  \\r\\nIn the morning of a new life  \\r\\nWhen the sun comes shining through  \\r\\nWhen the grey skies turn to blue  \\r\\nMeet me on a bright and windy day  \\r\\nWhen the breeze has blown  \\r\\nThe gray skies far away  \\r\\nHigh upon a hillside  \\r\\nWhen the sun comes shining through  \\r\\nAnd the grey skies turn to blue  \\r\\nWhen the grey skies turn to blue  \\r\\nWhen the grey skies turn to blue  \\r\\n\\r\\n\",\n          \"I met a girl a wonderful girl  \\r\\nWho's really got a lot to recommend her for a girl  \\r\\nFabulous creature without any doubt  \\r\\nHey what am I getting so excited about  \\r\\nShe's just a girl an everyday girl  \\r\\nAnd yet I guess she's really rather special for a girl  \\r\\nFor once you've seen her the others are not  \\r\\nHey what am I getting so excited about  \\r\\nBut so what what has she got others have not  \\r\\nTwo eyes two lips a nose all girls have some of those  \\r\\nBut when she looks up at me what do I see  \\r\\nThe most enchanting face my pulse begins to race  \\r\\nHey I met a girl a marvelous girl  \\r\\nShe rarer than uranium and fairer than a pearl  \\r\\nFound me a treasure and I want to shout  \\r\\nHey what am I getting so excited about  \\r\\nBut so what what has she got others have not  \\r\\nTwo eyes two lips a nose all girls have some of those  \\r\\nBut when she looks up at me what do I see  \\r\\nThe most enchanting face my pulse begins to race  \\r\\n(I got a girl a marvelous girl)  \\r\\n(She rarer than uranium and fairer than a pearl)  \\r\\nFound me a treasure and I want to shout  \\r\\nThis is what am I getting so excited about  \\r\\n(He met a girl) and I fell in love today\\r\\n\\r\\n\",\n          \"She's over by the corner  \\r\\nGot her hands by her sides  \\r\\nThey hit her harder harder harder  \\r\\nTill they thought she might die  \\r\\n  \\r\\nWell I got a foggy notion,  \\r\\nDo it again  \\r\\nOver by the corner,  \\r\\nDo it again  \\r\\nI got my calamine lotion baby,  \\r\\nDo it again  \\r\\nI got a foggy notion,  \\r\\nDo it again  \\r\\n  \\r\\nShe made me do something  \\r\\nThat I never did before  \\r\\nI rushed right down  \\r\\nTo a flower store  \\r\\nI bought her a bundle  \\r\\nA beautiful batch  \\r\\nDon't you know something,  \\r\\nShe sent 'em right back  \\r\\n  \\r\\nSally Mae, Sally Mae,  \\r\\nSally Mae, Sally Mae  \\r\\nSally Mae, Sally Mae,  \\r\\nSally Mae, Sally Mae\\r\\n\\r\\n\"\n        ],\n        \"semantic_type\": \"\",\n        \"description\": \"\"\n      }\n    }\n  ]\n}",
              "type": "dataframe",
              "variable_name": "df"
            },
            "text/html": [
              "\n",
              "  <div id=\"df-6fce5c8e-d3d1-4f2e-a2b0-73bc2f3a4a12\" class=\"colab-df-container\">\n",
              "    <div>\n",
              "<style scoped>\n",
              "    .dataframe tbody tr th:only-of-type {\n",
              "        vertical-align: middle;\n",
              "    }\n",
              "\n",
              "    .dataframe tbody tr th {\n",
              "        vertical-align: top;\n",
              "    }\n",
              "\n",
              "    .dataframe thead th {\n",
              "        text-align: right;\n",
              "    }\n",
              "</style>\n",
              "<table border=\"1\" class=\"dataframe\">\n",
              "  <thead>\n",
              "    <tr style=\"text-align: right;\">\n",
              "      <th></th>\n",
              "      <th>artist</th>\n",
              "      <th>song</th>\n",
              "      <th>link</th>\n",
              "      <th>text</th>\n",
              "    </tr>\n",
              "  </thead>\n",
              "  <tbody>\n",
              "    <tr>\n",
              "      <th>0</th>\n",
              "      <td>ABBA</td>\n",
              "      <td>Ahe's My Kind Of Girl</td>\n",
              "      <td>/a/abba/ahes+my+kind+of+girl_20598417.html</td>\n",
              "      <td>Look at her face, it's a wonderful face  \\r\\nA...</td>\n",
              "    </tr>\n",
              "    <tr>\n",
              "      <th>1</th>\n",
              "      <td>ABBA</td>\n",
              "      <td>Andante, Andante</td>\n",
              "      <td>/a/abba/andante+andante_20002708.html</td>\n",
              "      <td>Take it easy with me, please  \\r\\nTouch me gen...</td>\n",
              "    </tr>\n",
              "    <tr>\n",
              "      <th>2</th>\n",
              "      <td>ABBA</td>\n",
              "      <td>As Good As New</td>\n",
              "      <td>/a/abba/as+good+as+new_20003033.html</td>\n",
              "      <td>I'll never know why I had to go  \\r\\nWhy I had...</td>\n",
              "    </tr>\n",
              "    <tr>\n",
              "      <th>3</th>\n",
              "      <td>ABBA</td>\n",
              "      <td>Bang</td>\n",
              "      <td>/a/abba/bang_20598415.html</td>\n",
              "      <td>Making somebody happy is a question of give an...</td>\n",
              "    </tr>\n",
              "    <tr>\n",
              "      <th>4</th>\n",
              "      <td>ABBA</td>\n",
              "      <td>Bang-A-Boomerang</td>\n",
              "      <td>/a/abba/bang+a+boomerang_20002668.html</td>\n",
              "      <td>Making somebody happy is a question of give an...</td>\n",
              "    </tr>\n",
              "    <tr>\n",
              "      <th>5</th>\n",
              "      <td>ABBA</td>\n",
              "      <td>Burning My Bridges</td>\n",
              "      <td>/a/abba/burning+my+bridges_20003011.html</td>\n",
              "      <td>Well, you hoot and you holler and you make me ...</td>\n",
              "    </tr>\n",
              "    <tr>\n",
              "      <th>6</th>\n",
              "      <td>ABBA</td>\n",
              "      <td>Cassandra</td>\n",
              "      <td>/a/abba/cassandra_20002811.html</td>\n",
              "      <td>Down in the street they're all singing and sho...</td>\n",
              "    </tr>\n",
              "    <tr>\n",
              "      <th>7</th>\n",
              "      <td>ABBA</td>\n",
              "      <td>Chiquitita</td>\n",
              "      <td>/a/abba/chiquitita_20002978.html</td>\n",
              "      <td>Chiquitita, tell me what's wrong  \\r\\nYou're e...</td>\n",
              "    </tr>\n",
              "    <tr>\n",
              "      <th>8</th>\n",
              "      <td>ABBA</td>\n",
              "      <td>Crazy World</td>\n",
              "      <td>/a/abba/crazy+world_20003013.html</td>\n",
              "      <td>I was out with the morning sun  \\r\\nCouldn't s...</td>\n",
              "    </tr>\n",
              "    <tr>\n",
              "      <th>9</th>\n",
              "      <td>ABBA</td>\n",
              "      <td>Crying Over You</td>\n",
              "      <td>/a/abba/crying+over+you_20177611.html</td>\n",
              "      <td>I'm waitin' for you baby  \\r\\nI'm sitting all ...</td>\n",
              "    </tr>\n",
              "  </tbody>\n",
              "</table>\n",
              "</div>\n",
              "    <div class=\"colab-df-buttons\">\n",
              "\n",
              "  <div class=\"colab-df-container\">\n",
              "    <button class=\"colab-df-convert\" onclick=\"convertToInteractive('df-6fce5c8e-d3d1-4f2e-a2b0-73bc2f3a4a12')\"\n",
              "            title=\"Convert this dataframe to an interactive table.\"\n",
              "            style=\"display:none;\">\n",
              "\n",
              "  <svg xmlns=\"http://www.w3.org/2000/svg\" height=\"24px\" viewBox=\"0 -960 960 960\">\n",
              "    <path d=\"M120-120v-720h720v720H120Zm60-500h600v-160H180v160Zm220 220h160v-160H400v160Zm0 220h160v-160H400v160ZM180-400h160v-160H180v160Zm440 0h160v-160H620v160ZM180-180h160v-160H180v160Zm440 0h160v-160H620v160Z\"/>\n",
              "  </svg>\n",
              "    </button>\n",
              "\n",
              "  <style>\n",
              "    .colab-df-container {\n",
              "      display:flex;\n",
              "      gap: 12px;\n",
              "    }\n",
              "\n",
              "    .colab-df-convert {\n",
              "      background-color: #E8F0FE;\n",
              "      border: none;\n",
              "      border-radius: 50%;\n",
              "      cursor: pointer;\n",
              "      display: none;\n",
              "      fill: #1967D2;\n",
              "      height: 32px;\n",
              "      padding: 0 0 0 0;\n",
              "      width: 32px;\n",
              "    }\n",
              "\n",
              "    .colab-df-convert:hover {\n",
              "      background-color: #E2EBFA;\n",
              "      box-shadow: 0px 1px 2px rgba(60, 64, 67, 0.3), 0px 1px 3px 1px rgba(60, 64, 67, 0.15);\n",
              "      fill: #174EA6;\n",
              "    }\n",
              "\n",
              "    .colab-df-buttons div {\n",
              "      margin-bottom: 4px;\n",
              "    }\n",
              "\n",
              "    [theme=dark] .colab-df-convert {\n",
              "      background-color: #3B4455;\n",
              "      fill: #D2E3FC;\n",
              "    }\n",
              "\n",
              "    [theme=dark] .colab-df-convert:hover {\n",
              "      background-color: #434B5C;\n",
              "      box-shadow: 0px 1px 3px 1px rgba(0, 0, 0, 0.15);\n",
              "      filter: drop-shadow(0px 1px 2px rgba(0, 0, 0, 0.3));\n",
              "      fill: #FFFFFF;\n",
              "    }\n",
              "  </style>\n",
              "\n",
              "    <script>\n",
              "      const buttonEl =\n",
              "        document.querySelector('#df-6fce5c8e-d3d1-4f2e-a2b0-73bc2f3a4a12 button.colab-df-convert');\n",
              "      buttonEl.style.display =\n",
              "        google.colab.kernel.accessAllowed ? 'block' : 'none';\n",
              "\n",
              "      async function convertToInteractive(key) {\n",
              "        const element = document.querySelector('#df-6fce5c8e-d3d1-4f2e-a2b0-73bc2f3a4a12');\n",
              "        const dataTable =\n",
              "          await google.colab.kernel.invokeFunction('convertToInteractive',\n",
              "                                                    [key], {});\n",
              "        if (!dataTable) return;\n",
              "\n",
              "        const docLinkHtml = 'Like what you see? Visit the ' +\n",
              "          '<a target=\"_blank\" href=https://colab.research.google.com/notebooks/data_table.ipynb>data table notebook</a>'\n",
              "          + ' to learn more about interactive tables.';\n",
              "        element.innerHTML = '';\n",
              "        dataTable['output_type'] = 'display_data';\n",
              "        await google.colab.output.renderOutput(dataTable, element);\n",
              "        const docLink = document.createElement('div');\n",
              "        docLink.innerHTML = docLinkHtml;\n",
              "        element.appendChild(docLink);\n",
              "      }\n",
              "    </script>\n",
              "  </div>\n",
              "\n",
              "\n",
              "<div id=\"df-c0226a8b-0cda-469f-85c0-a3908f8a4c74\">\n",
              "  <button class=\"colab-df-quickchart\" onclick=\"quickchart('df-c0226a8b-0cda-469f-85c0-a3908f8a4c74')\"\n",
              "            title=\"Suggest charts\"\n",
              "            style=\"display:none;\">\n",
              "\n",
              "<svg xmlns=\"http://www.w3.org/2000/svg\" height=\"24px\"viewBox=\"0 0 24 24\"\n",
              "     width=\"24px\">\n",
              "    <g>\n",
              "        <path d=\"M19 3H5c-1.1 0-2 .9-2 2v14c0 1.1.9 2 2 2h14c1.1 0 2-.9 2-2V5c0-1.1-.9-2-2-2zM9 17H7v-7h2v7zm4 0h-2V7h2v10zm4 0h-2v-4h2v4z\"/>\n",
              "    </g>\n",
              "</svg>\n",
              "  </button>\n",
              "\n",
              "<style>\n",
              "  .colab-df-quickchart {\n",
              "      --bg-color: #E8F0FE;\n",
              "      --fill-color: #1967D2;\n",
              "      --hover-bg-color: #E2EBFA;\n",
              "      --hover-fill-color: #174EA6;\n",
              "      --disabled-fill-color: #AAA;\n",
              "      --disabled-bg-color: #DDD;\n",
              "  }\n",
              "\n",
              "  [theme=dark] .colab-df-quickchart {\n",
              "      --bg-color: #3B4455;\n",
              "      --fill-color: #D2E3FC;\n",
              "      --hover-bg-color: #434B5C;\n",
              "      --hover-fill-color: #FFFFFF;\n",
              "      --disabled-bg-color: #3B4455;\n",
              "      --disabled-fill-color: #666;\n",
              "  }\n",
              "\n",
              "  .colab-df-quickchart {\n",
              "    background-color: var(--bg-color);\n",
              "    border: none;\n",
              "    border-radius: 50%;\n",
              "    cursor: pointer;\n",
              "    display: none;\n",
              "    fill: var(--fill-color);\n",
              "    height: 32px;\n",
              "    padding: 0;\n",
              "    width: 32px;\n",
              "  }\n",
              "\n",
              "  .colab-df-quickchart:hover {\n",
              "    background-color: var(--hover-bg-color);\n",
              "    box-shadow: 0 1px 2px rgba(60, 64, 67, 0.3), 0 1px 3px 1px rgba(60, 64, 67, 0.15);\n",
              "    fill: var(--button-hover-fill-color);\n",
              "  }\n",
              "\n",
              "  .colab-df-quickchart-complete:disabled,\n",
              "  .colab-df-quickchart-complete:disabled:hover {\n",
              "    background-color: var(--disabled-bg-color);\n",
              "    fill: var(--disabled-fill-color);\n",
              "    box-shadow: none;\n",
              "  }\n",
              "\n",
              "  .colab-df-spinner {\n",
              "    border: 2px solid var(--fill-color);\n",
              "    border-color: transparent;\n",
              "    border-bottom-color: var(--fill-color);\n",
              "    animation:\n",
              "      spin 1s steps(1) infinite;\n",
              "  }\n",
              "\n",
              "  @keyframes spin {\n",
              "    0% {\n",
              "      border-color: transparent;\n",
              "      border-bottom-color: var(--fill-color);\n",
              "      border-left-color: var(--fill-color);\n",
              "    }\n",
              "    20% {\n",
              "      border-color: transparent;\n",
              "      border-left-color: var(--fill-color);\n",
              "      border-top-color: var(--fill-color);\n",
              "    }\n",
              "    30% {\n",
              "      border-color: transparent;\n",
              "      border-left-color: var(--fill-color);\n",
              "      border-top-color: var(--fill-color);\n",
              "      border-right-color: var(--fill-color);\n",
              "    }\n",
              "    40% {\n",
              "      border-color: transparent;\n",
              "      border-right-color: var(--fill-color);\n",
              "      border-top-color: var(--fill-color);\n",
              "    }\n",
              "    60% {\n",
              "      border-color: transparent;\n",
              "      border-right-color: var(--fill-color);\n",
              "    }\n",
              "    80% {\n",
              "      border-color: transparent;\n",
              "      border-right-color: var(--fill-color);\n",
              "      border-bottom-color: var(--fill-color);\n",
              "    }\n",
              "    90% {\n",
              "      border-color: transparent;\n",
              "      border-bottom-color: var(--fill-color);\n",
              "    }\n",
              "  }\n",
              "</style>\n",
              "\n",
              "  <script>\n",
              "    async function quickchart(key) {\n",
              "      const quickchartButtonEl =\n",
              "        document.querySelector('#' + key + ' button');\n",
              "      quickchartButtonEl.disabled = true;  // To prevent multiple clicks.\n",
              "      quickchartButtonEl.classList.add('colab-df-spinner');\n",
              "      try {\n",
              "        const charts = await google.colab.kernel.invokeFunction(\n",
              "            'suggestCharts', [key], {});\n",
              "      } catch (error) {\n",
              "        console.error('Error during call to suggestCharts:', error);\n",
              "      }\n",
              "      quickchartButtonEl.classList.remove('colab-df-spinner');\n",
              "      quickchartButtonEl.classList.add('colab-df-quickchart-complete');\n",
              "    }\n",
              "    (() => {\n",
              "      let quickchartButtonEl =\n",
              "        document.querySelector('#df-c0226a8b-0cda-469f-85c0-a3908f8a4c74 button');\n",
              "      quickchartButtonEl.style.display =\n",
              "        google.colab.kernel.accessAllowed ? 'block' : 'none';\n",
              "    })();\n",
              "  </script>\n",
              "</div>\n",
              "    </div>\n",
              "  </div>\n"
            ],
            "text/plain": [
              "  artist                   song                                        link  \\\n",
              "0   ABBA  Ahe's My Kind Of Girl  /a/abba/ahes+my+kind+of+girl_20598417.html   \n",
              "1   ABBA       Andante, Andante       /a/abba/andante+andante_20002708.html   \n",
              "2   ABBA         As Good As New        /a/abba/as+good+as+new_20003033.html   \n",
              "3   ABBA                   Bang                  /a/abba/bang_20598415.html   \n",
              "4   ABBA       Bang-A-Boomerang      /a/abba/bang+a+boomerang_20002668.html   \n",
              "5   ABBA     Burning My Bridges    /a/abba/burning+my+bridges_20003011.html   \n",
              "6   ABBA              Cassandra             /a/abba/cassandra_20002811.html   \n",
              "7   ABBA             Chiquitita            /a/abba/chiquitita_20002978.html   \n",
              "8   ABBA            Crazy World           /a/abba/crazy+world_20003013.html   \n",
              "9   ABBA        Crying Over You       /a/abba/crying+over+you_20177611.html   \n",
              "\n",
              "                                                text  \n",
              "0  Look at her face, it's a wonderful face  \\r\\nA...  \n",
              "1  Take it easy with me, please  \\r\\nTouch me gen...  \n",
              "2  I'll never know why I had to go  \\r\\nWhy I had...  \n",
              "3  Making somebody happy is a question of give an...  \n",
              "4  Making somebody happy is a question of give an...  \n",
              "5  Well, you hoot and you holler and you make me ...  \n",
              "6  Down in the street they're all singing and sho...  \n",
              "7  Chiquitita, tell me what's wrong  \\r\\nYou're e...  \n",
              "8  I was out with the morning sun  \\r\\nCouldn't s...  \n",
              "9  I'm waitin' for you baby  \\r\\nI'm sitting all ...  "
            ]
          },
          "execution_count": 6,
          "metadata": {},
          "output_type": "execute_result"
        }
      ],
      "source": [
        "df.head(10)"
      ]
    },
    {
      "cell_type": "markdown",
      "metadata": {
        "id": "jUbJoto-vIf1"
      },
      "source": [
        "### The last 10 rows of the DataFrame"
      ]
    },
    {
      "cell_type": "code",
      "execution_count": null,
      "metadata": {
        "colab": {
          "base_uri": "https://localhost:8080/",
          "height": 363
        },
        "id": "-_2t7EEyvH9N",
        "outputId": "cb6b370a-b03f-433b-e201-75adf886d6a2"
      },
      "outputs": [
        {
          "data": {
            "application/vnd.google.colaboratory.intrinsic+json": {
              "summary": "{\n  \"name\": \"df\",\n  \"rows\": 10,\n  \"fields\": [\n    {\n      \"column\": \"artist\",\n      \"properties\": {\n        \"dtype\": \"category\",\n        \"num_unique_values\": 3,\n        \"samples\": [\n          \"Zebrahead\",\n          \"Ziggy Marley\",\n          \"Zwan\"\n        ],\n        \"semantic_type\": \"\",\n        \"description\": \"\"\n      }\n    },\n    {\n      \"column\": \"song\",\n      \"properties\": {\n        \"dtype\": \"string\",\n        \"num_unique_values\": 10,\n        \"samples\": [\n          \"Desire\",\n          \"Freedom Road\",\n          \"Good Old Days\"\n        ],\n        \"semantic_type\": \"\",\n        \"description\": \"\"\n      }\n    },\n    {\n      \"column\": \"link\",\n      \"properties\": {\n        \"dtype\": \"string\",\n        \"num_unique_values\": 10,\n        \"samples\": [\n          \"/z/zwan/desire_20148986.html\",\n          \"/z/ziggy+marley/freedom+road_20531174.html\",\n          \"/z/ziggy+marley/good+old+days_10198588.html\"\n        ],\n        \"semantic_type\": \"\",\n        \"description\": \"\"\n      }\n    },\n    {\n      \"column\": \"text\",\n      \"properties\": {\n        \"dtype\": \"string\",\n        \"num_unique_values\": 10,\n        \"samples\": [\n          \"northern star  \\r\\nam i frightened  \\r\\nwhere can i go to rest  \\r\\ni can't sleep  \\r\\nand i'm still fighting  \\r\\nwait, don't breathe  \\r\\n  \\r\\nthe time destroys a man  \\r\\na child who understands  \\r\\nthat anyone who desires  \\r\\nis not my kind  \\r\\nnot my truth  \\r\\n  \\r\\nfade away, it's all we do  \\r\\nfade away from the truth  \\r\\ndesires  \\r\\nfade away  \\r\\ndesires  \\r\\nfade away  \\r\\ndesires  \\r\\n  \\r\\nand northern star  \\r\\nplease enlighten  \\r\\nthe lost prayers of my soul  \\r\\nchildhood dreams  \\r\\nof death and titans  \\r\\nwe were meant to be free  \\r\\n  \\r\\nto give ourselves away  \\r\\nso please don't be afraid  \\r\\nof anyone who desires  \\r\\nthey're not my kind  \\r\\nnot my truth  \\r\\n  \\r\\nfade away, it's all we do  \\r\\nfade away from the truth  \\r\\ndesires  \\r\\nfade away  \\r\\ndesires  \\r\\nfade away  \\r\\ndesires  \\r\\nfade away  \\r\\ndesires  \\r\\n  \\r\\n'cause anyone who desires  \\r\\nis not my kind  \\r\\ni have no use for you  \\r\\n  \\r\\n\\r\\n\",\n          \"That's why I'm marching, yes, I'm marching,  \\r\\nMarching down freedom's road.  \\r\\nAin't nobody gonna stop me, nobody gonna keep me,  \\r\\nFrom marching down freedom's road.  \\r\\n  \\r\\nHand me my gun, let the bugle blow loud,  \\r\\nI'm on my way with my head a-proud,  \\r\\nOne objective I've got in view,  \\r\\nIs to keep a hold of freedom for me and you  \\r\\nThat's why I'm marching, yes, I'm marching,  \\r\\nMarching down freedom's road.  \\r\\n  \\r\\nAin't nobody gonna stop me, nobody gonna keep me,  \\r\\nFrom marching down freedom's road.  \\r\\n  \\r\\nOught to be plain as the nose on your face,  \\r\\nThere's room in this plan for every race,  \\r\\nSome folk think that freedom just ain't right,  \\r\\nThose are the very people I want to fight.  \\r\\n  \\r\\nThat's why I'm marching, yes, I'm marching,  \\r\\nMarching down freedom's road.  \\r\\nAin't nobody gonna stop me, nobody gonna keep me,  \\r\\nFrom marching down freedom's road.  \\r\\n  \\r\\nNow, Hitler may rant, Hirohito may rave,  \\r\\nI'm going after freedom if it leads me to my grave.  \\r\\nThat's why I'm marching, yes, I'm marching,  \\r\\nI'm marching down freedom's road.  \\r\\n  \\r\\nUnited we stand, divided we fall,  \\r\\nLet's make this land safe for one and all.  \\r\\nI've got a message, and you know it's right,  \\r\\nBlack and white together unite and fight.  \\r\\nThat's why I'm marching, yes, I'm marching,  \\r\\nMarching down freedom's road.  \\r\\n  \\r\\nAin't no fascists gonna stop me, no Nazis gonna keep me,  \\r\\nFrom marching down freedom's road\\r\\n\\r\\n\",\n          \"Irie days come on play  \\r\\nLet the angels fly let the devils die  \\r\\nGot to do what you can with the time at hand  \\r\\nAli boom mah yeah Ali boom mah yeah  \\r\\nDon't worry your mind its just the test of time  \\r\\nIn five years these be the good old days  \\r\\n  \\r\\nNo one knows what the future holds for everything has a season  \\r\\nIts not a time for war its a time for peace  \\r\\nTomorrow knows tomorrow woes  \\r\\nI remember when grandpa use to say grandson these be the good old days  \\r\\n  \\r\\nThese be the good old days  \\r\\n  \\r\\nNow comes the moon with its starry lights  \\r\\nAnd so begins the night life  \\r\\nThe tribal dance puts me in a trance  \\r\\nAs she pulls me in with her magic swing  \\r\\nI asked of her what do we celebrate  \\r\\nShe said to me these be the good old days  \\r\\n  \\r\\nThese be the good old days  \\r\\n  \\r\\nThere is no future there is only now  \\r\\nLet's cherish these moments that we now know  \\r\\n  \\r\\nThese be the good old days\\r\\n\\r\\n\"\n        ],\n        \"semantic_type\": \"\",\n        \"description\": \"\"\n      }\n    }\n  ]\n}",
              "type": "dataframe"
            },
            "text/html": [
              "\n",
              "  <div id=\"df-017bd41b-4ce1-4b9d-a6ab-64d1d7679c53\" class=\"colab-df-container\">\n",
              "    <div>\n",
              "<style scoped>\n",
              "    .dataframe tbody tr th:only-of-type {\n",
              "        vertical-align: middle;\n",
              "    }\n",
              "\n",
              "    .dataframe tbody tr th {\n",
              "        vertical-align: top;\n",
              "    }\n",
              "\n",
              "    .dataframe thead th {\n",
              "        text-align: right;\n",
              "    }\n",
              "</style>\n",
              "<table border=\"1\" class=\"dataframe\">\n",
              "  <thead>\n",
              "    <tr style=\"text-align: right;\">\n",
              "      <th></th>\n",
              "      <th>artist</th>\n",
              "      <th>song</th>\n",
              "      <th>link</th>\n",
              "      <th>text</th>\n",
              "    </tr>\n",
              "  </thead>\n",
              "  <tbody>\n",
              "    <tr>\n",
              "      <th>57640</th>\n",
              "      <td>Zebrahead</td>\n",
              "      <td>The Setup</td>\n",
              "      <td>/z/zebrahead/the+setup_10198494.html</td>\n",
              "      <td>Lie to me  \\r\\nTell me that everything will be...</td>\n",
              "    </tr>\n",
              "    <tr>\n",
              "      <th>57641</th>\n",
              "      <td>Ziggy Marley</td>\n",
              "      <td>Freedom Road</td>\n",
              "      <td>/z/ziggy+marley/freedom+road_20531174.html</td>\n",
              "      <td>That's why I'm marching, yes, I'm marching,  \\...</td>\n",
              "    </tr>\n",
              "    <tr>\n",
              "      <th>57642</th>\n",
              "      <td>Ziggy Marley</td>\n",
              "      <td>Friend</td>\n",
              "      <td>/z/ziggy+marley/friend_20673508.html</td>\n",
              "      <td>[Chorus]  \\r\\nI wanna thank you for the things...</td>\n",
              "    </tr>\n",
              "    <tr>\n",
              "      <th>57643</th>\n",
              "      <td>Ziggy Marley</td>\n",
              "      <td>G7</td>\n",
              "      <td>/z/ziggy+marley/g7_20531173.html</td>\n",
              "      <td>Seven richest countries in the world  \\r\\nThem...</td>\n",
              "    </tr>\n",
              "    <tr>\n",
              "      <th>57644</th>\n",
              "      <td>Ziggy Marley</td>\n",
              "      <td>Generation</td>\n",
              "      <td>/z/ziggy+marley/generation_20531171.html</td>\n",
              "      <td>Many generation have passed away  \\r\\nFighting...</td>\n",
              "    </tr>\n",
              "    <tr>\n",
              "      <th>57645</th>\n",
              "      <td>Ziggy Marley</td>\n",
              "      <td>Good Old Days</td>\n",
              "      <td>/z/ziggy+marley/good+old+days_10198588.html</td>\n",
              "      <td>Irie days come on play  \\r\\nLet the angels fly...</td>\n",
              "    </tr>\n",
              "    <tr>\n",
              "      <th>57646</th>\n",
              "      <td>Ziggy Marley</td>\n",
              "      <td>Hand To Mouth</td>\n",
              "      <td>/z/ziggy+marley/hand+to+mouth_20531167.html</td>\n",
              "      <td>Power to the workers  \\r\\nMore power  \\r\\nPowe...</td>\n",
              "    </tr>\n",
              "    <tr>\n",
              "      <th>57647</th>\n",
              "      <td>Zwan</td>\n",
              "      <td>Come With Me</td>\n",
              "      <td>/z/zwan/come+with+me_20148981.html</td>\n",
              "      <td>all you need  \\r\\nis something i'll believe  \\...</td>\n",
              "    </tr>\n",
              "    <tr>\n",
              "      <th>57648</th>\n",
              "      <td>Zwan</td>\n",
              "      <td>Desire</td>\n",
              "      <td>/z/zwan/desire_20148986.html</td>\n",
              "      <td>northern star  \\r\\nam i frightened  \\r\\nwhere ...</td>\n",
              "    </tr>\n",
              "    <tr>\n",
              "      <th>57649</th>\n",
              "      <td>Zwan</td>\n",
              "      <td>Heartsong</td>\n",
              "      <td>/z/zwan/heartsong_20148991.html</td>\n",
              "      <td>come in  \\r\\nmake yourself at home  \\r\\ni'm a ...</td>\n",
              "    </tr>\n",
              "  </tbody>\n",
              "</table>\n",
              "</div>\n",
              "    <div class=\"colab-df-buttons\">\n",
              "\n",
              "  <div class=\"colab-df-container\">\n",
              "    <button class=\"colab-df-convert\" onclick=\"convertToInteractive('df-017bd41b-4ce1-4b9d-a6ab-64d1d7679c53')\"\n",
              "            title=\"Convert this dataframe to an interactive table.\"\n",
              "            style=\"display:none;\">\n",
              "\n",
              "  <svg xmlns=\"http://www.w3.org/2000/svg\" height=\"24px\" viewBox=\"0 -960 960 960\">\n",
              "    <path d=\"M120-120v-720h720v720H120Zm60-500h600v-160H180v160Zm220 220h160v-160H400v160Zm0 220h160v-160H400v160ZM180-400h160v-160H180v160Zm440 0h160v-160H620v160ZM180-180h160v-160H180v160Zm440 0h160v-160H620v160Z\"/>\n",
              "  </svg>\n",
              "    </button>\n",
              "\n",
              "  <style>\n",
              "    .colab-df-container {\n",
              "      display:flex;\n",
              "      gap: 12px;\n",
              "    }\n",
              "\n",
              "    .colab-df-convert {\n",
              "      background-color: #E8F0FE;\n",
              "      border: none;\n",
              "      border-radius: 50%;\n",
              "      cursor: pointer;\n",
              "      display: none;\n",
              "      fill: #1967D2;\n",
              "      height: 32px;\n",
              "      padding: 0 0 0 0;\n",
              "      width: 32px;\n",
              "    }\n",
              "\n",
              "    .colab-df-convert:hover {\n",
              "      background-color: #E2EBFA;\n",
              "      box-shadow: 0px 1px 2px rgba(60, 64, 67, 0.3), 0px 1px 3px 1px rgba(60, 64, 67, 0.15);\n",
              "      fill: #174EA6;\n",
              "    }\n",
              "\n",
              "    .colab-df-buttons div {\n",
              "      margin-bottom: 4px;\n",
              "    }\n",
              "\n",
              "    [theme=dark] .colab-df-convert {\n",
              "      background-color: #3B4455;\n",
              "      fill: #D2E3FC;\n",
              "    }\n",
              "\n",
              "    [theme=dark] .colab-df-convert:hover {\n",
              "      background-color: #434B5C;\n",
              "      box-shadow: 0px 1px 3px 1px rgba(0, 0, 0, 0.15);\n",
              "      filter: drop-shadow(0px 1px 2px rgba(0, 0, 0, 0.3));\n",
              "      fill: #FFFFFF;\n",
              "    }\n",
              "  </style>\n",
              "\n",
              "    <script>\n",
              "      const buttonEl =\n",
              "        document.querySelector('#df-017bd41b-4ce1-4b9d-a6ab-64d1d7679c53 button.colab-df-convert');\n",
              "      buttonEl.style.display =\n",
              "        google.colab.kernel.accessAllowed ? 'block' : 'none';\n",
              "\n",
              "      async function convertToInteractive(key) {\n",
              "        const element = document.querySelector('#df-017bd41b-4ce1-4b9d-a6ab-64d1d7679c53');\n",
              "        const dataTable =\n",
              "          await google.colab.kernel.invokeFunction('convertToInteractive',\n",
              "                                                    [key], {});\n",
              "        if (!dataTable) return;\n",
              "\n",
              "        const docLinkHtml = 'Like what you see? Visit the ' +\n",
              "          '<a target=\"_blank\" href=https://colab.research.google.com/notebooks/data_table.ipynb>data table notebook</a>'\n",
              "          + ' to learn more about interactive tables.';\n",
              "        element.innerHTML = '';\n",
              "        dataTable['output_type'] = 'display_data';\n",
              "        await google.colab.output.renderOutput(dataTable, element);\n",
              "        const docLink = document.createElement('div');\n",
              "        docLink.innerHTML = docLinkHtml;\n",
              "        element.appendChild(docLink);\n",
              "      }\n",
              "    </script>\n",
              "  </div>\n",
              "\n",
              "\n",
              "<div id=\"df-2fd1db89-4f15-4631-87b5-7643bc2a5805\">\n",
              "  <button class=\"colab-df-quickchart\" onclick=\"quickchart('df-2fd1db89-4f15-4631-87b5-7643bc2a5805')\"\n",
              "            title=\"Suggest charts\"\n",
              "            style=\"display:none;\">\n",
              "\n",
              "<svg xmlns=\"http://www.w3.org/2000/svg\" height=\"24px\"viewBox=\"0 0 24 24\"\n",
              "     width=\"24px\">\n",
              "    <g>\n",
              "        <path d=\"M19 3H5c-1.1 0-2 .9-2 2v14c0 1.1.9 2 2 2h14c1.1 0 2-.9 2-2V5c0-1.1-.9-2-2-2zM9 17H7v-7h2v7zm4 0h-2V7h2v10zm4 0h-2v-4h2v4z\"/>\n",
              "    </g>\n",
              "</svg>\n",
              "  </button>\n",
              "\n",
              "<style>\n",
              "  .colab-df-quickchart {\n",
              "      --bg-color: #E8F0FE;\n",
              "      --fill-color: #1967D2;\n",
              "      --hover-bg-color: #E2EBFA;\n",
              "      --hover-fill-color: #174EA6;\n",
              "      --disabled-fill-color: #AAA;\n",
              "      --disabled-bg-color: #DDD;\n",
              "  }\n",
              "\n",
              "  [theme=dark] .colab-df-quickchart {\n",
              "      --bg-color: #3B4455;\n",
              "      --fill-color: #D2E3FC;\n",
              "      --hover-bg-color: #434B5C;\n",
              "      --hover-fill-color: #FFFFFF;\n",
              "      --disabled-bg-color: #3B4455;\n",
              "      --disabled-fill-color: #666;\n",
              "  }\n",
              "\n",
              "  .colab-df-quickchart {\n",
              "    background-color: var(--bg-color);\n",
              "    border: none;\n",
              "    border-radius: 50%;\n",
              "    cursor: pointer;\n",
              "    display: none;\n",
              "    fill: var(--fill-color);\n",
              "    height: 32px;\n",
              "    padding: 0;\n",
              "    width: 32px;\n",
              "  }\n",
              "\n",
              "  .colab-df-quickchart:hover {\n",
              "    background-color: var(--hover-bg-color);\n",
              "    box-shadow: 0 1px 2px rgba(60, 64, 67, 0.3), 0 1px 3px 1px rgba(60, 64, 67, 0.15);\n",
              "    fill: var(--button-hover-fill-color);\n",
              "  }\n",
              "\n",
              "  .colab-df-quickchart-complete:disabled,\n",
              "  .colab-df-quickchart-complete:disabled:hover {\n",
              "    background-color: var(--disabled-bg-color);\n",
              "    fill: var(--disabled-fill-color);\n",
              "    box-shadow: none;\n",
              "  }\n",
              "\n",
              "  .colab-df-spinner {\n",
              "    border: 2px solid var(--fill-color);\n",
              "    border-color: transparent;\n",
              "    border-bottom-color: var(--fill-color);\n",
              "    animation:\n",
              "      spin 1s steps(1) infinite;\n",
              "  }\n",
              "\n",
              "  @keyframes spin {\n",
              "    0% {\n",
              "      border-color: transparent;\n",
              "      border-bottom-color: var(--fill-color);\n",
              "      border-left-color: var(--fill-color);\n",
              "    }\n",
              "    20% {\n",
              "      border-color: transparent;\n",
              "      border-left-color: var(--fill-color);\n",
              "      border-top-color: var(--fill-color);\n",
              "    }\n",
              "    30% {\n",
              "      border-color: transparent;\n",
              "      border-left-color: var(--fill-color);\n",
              "      border-top-color: var(--fill-color);\n",
              "      border-right-color: var(--fill-color);\n",
              "    }\n",
              "    40% {\n",
              "      border-color: transparent;\n",
              "      border-right-color: var(--fill-color);\n",
              "      border-top-color: var(--fill-color);\n",
              "    }\n",
              "    60% {\n",
              "      border-color: transparent;\n",
              "      border-right-color: var(--fill-color);\n",
              "    }\n",
              "    80% {\n",
              "      border-color: transparent;\n",
              "      border-right-color: var(--fill-color);\n",
              "      border-bottom-color: var(--fill-color);\n",
              "    }\n",
              "    90% {\n",
              "      border-color: transparent;\n",
              "      border-bottom-color: var(--fill-color);\n",
              "    }\n",
              "  }\n",
              "</style>\n",
              "\n",
              "  <script>\n",
              "    async function quickchart(key) {\n",
              "      const quickchartButtonEl =\n",
              "        document.querySelector('#' + key + ' button');\n",
              "      quickchartButtonEl.disabled = true;  // To prevent multiple clicks.\n",
              "      quickchartButtonEl.classList.add('colab-df-spinner');\n",
              "      try {\n",
              "        const charts = await google.colab.kernel.invokeFunction(\n",
              "            'suggestCharts', [key], {});\n",
              "      } catch (error) {\n",
              "        console.error('Error during call to suggestCharts:', error);\n",
              "      }\n",
              "      quickchartButtonEl.classList.remove('colab-df-spinner');\n",
              "      quickchartButtonEl.classList.add('colab-df-quickchart-complete');\n",
              "    }\n",
              "    (() => {\n",
              "      let quickchartButtonEl =\n",
              "        document.querySelector('#df-2fd1db89-4f15-4631-87b5-7643bc2a5805 button');\n",
              "      quickchartButtonEl.style.display =\n",
              "        google.colab.kernel.accessAllowed ? 'block' : 'none';\n",
              "    })();\n",
              "  </script>\n",
              "</div>\n",
              "    </div>\n",
              "  </div>\n"
            ],
            "text/plain": [
              "             artist           song  \\\n",
              "57640     Zebrahead      The Setup   \n",
              "57641  Ziggy Marley   Freedom Road   \n",
              "57642  Ziggy Marley         Friend   \n",
              "57643  Ziggy Marley             G7   \n",
              "57644  Ziggy Marley     Generation   \n",
              "57645  Ziggy Marley  Good Old Days   \n",
              "57646  Ziggy Marley  Hand To Mouth   \n",
              "57647          Zwan   Come With Me   \n",
              "57648          Zwan         Desire   \n",
              "57649          Zwan      Heartsong   \n",
              "\n",
              "                                              link  \\\n",
              "57640         /z/zebrahead/the+setup_10198494.html   \n",
              "57641   /z/ziggy+marley/freedom+road_20531174.html   \n",
              "57642         /z/ziggy+marley/friend_20673508.html   \n",
              "57643             /z/ziggy+marley/g7_20531173.html   \n",
              "57644     /z/ziggy+marley/generation_20531171.html   \n",
              "57645  /z/ziggy+marley/good+old+days_10198588.html   \n",
              "57646  /z/ziggy+marley/hand+to+mouth_20531167.html   \n",
              "57647           /z/zwan/come+with+me_20148981.html   \n",
              "57648                 /z/zwan/desire_20148986.html   \n",
              "57649              /z/zwan/heartsong_20148991.html   \n",
              "\n",
              "                                                    text  \n",
              "57640  Lie to me  \\r\\nTell me that everything will be...  \n",
              "57641  That's why I'm marching, yes, I'm marching,  \\...  \n",
              "57642  [Chorus]  \\r\\nI wanna thank you for the things...  \n",
              "57643  Seven richest countries in the world  \\r\\nThem...  \n",
              "57644  Many generation have passed away  \\r\\nFighting...  \n",
              "57645  Irie days come on play  \\r\\nLet the angels fly...  \n",
              "57646  Power to the workers  \\r\\nMore power  \\r\\nPowe...  \n",
              "57647  all you need  \\r\\nis something i'll believe  \\...  \n",
              "57648  northern star  \\r\\nam i frightened  \\r\\nwhere ...  \n",
              "57649  come in  \\r\\nmake yourself at home  \\r\\ni'm a ...  "
            ]
          },
          "execution_count": 7,
          "metadata": {},
          "output_type": "execute_result"
        }
      ],
      "source": [
        "df.tail(10)"
      ]
    },
    {
      "cell_type": "markdown",
      "metadata": {
        "id": "YuAdGMFNvTnd"
      },
      "source": [
        "### Dimensions of the DataFrame"
      ]
    },
    {
      "cell_type": "code",
      "execution_count": null,
      "metadata": {
        "colab": {
          "base_uri": "https://localhost:8080/"
        },
        "id": "gcFpFdNAvdOM",
        "outputId": "466a73f6-4a58-41e2-c714-c86727940d43"
      },
      "outputs": [
        {
          "data": {
            "text/plain": [
              "(57650, 4)"
            ]
          },
          "execution_count": 8,
          "metadata": {},
          "output_type": "execute_result"
        }
      ],
      "source": [
        "df.shape"
      ]
    },
    {
      "cell_type": "markdown",
      "metadata": {
        "id": "LnhiuchKvmTE"
      },
      "source": [
        "### Missing values in the DataFrame"
      ]
    },
    {
      "cell_type": "code",
      "execution_count": null,
      "metadata": {
        "colab": {
          "base_uri": "https://localhost:8080/"
        },
        "id": "VOKks-kwvoSt",
        "outputId": "bb62abcd-3129-4bb2-a4da-846dc21c1a37"
      },
      "outputs": [
        {
          "data": {
            "text/plain": [
              "artist    0\n",
              "song      0\n",
              "link      0\n",
              "text      0\n",
              "dtype: int64"
            ]
          },
          "execution_count": 9,
          "metadata": {},
          "output_type": "execute_result"
        }
      ],
      "source": [
        "df.isnull().sum()"
      ]
    },
    {
      "cell_type": "markdown",
      "metadata": {
        "id": "rvQVU_RD3iyY"
      },
      "source": [
        "### Artist Visulation"
      ]
    },
    {
      "cell_type": "code",
      "execution_count": null,
      "metadata": {
        "colab": {
          "base_uri": "https://localhost:8080/",
          "height": 228
        },
        "id": "JEvIsIUH3jYA",
        "outputId": "f6c65739-89bb-4402-f50e-a041156aac38"
      },
      "outputs": [
        {
          "output_type": "stream",
          "name": "stderr",
          "text": [
            "[nltk_data] Downloading package vader_lexicon to /root/nltk_data...\n"
          ]
        },
        {
          "output_type": "error",
          "ename": "NameError",
          "evalue": "name 'df' is not defined",
          "traceback": [
            "\u001b[0;31m---------------------------------------------------------------------------\u001b[0m",
            "\u001b[0;31mNameError\u001b[0m                                 Traceback (most recent call last)",
            "\u001b[0;32m<ipython-input-1-d43357aece18>\u001b[0m in \u001b[0;36m<cell line: 11>\u001b[0;34m()\u001b[0m\n\u001b[1;32m      9\u001b[0m \u001b[0;34m\u001b[0m\u001b[0m\n\u001b[1;32m     10\u001b[0m \u001b[0;31m# Create the music dataset frame (update according to the actual name of your dataset)\u001b[0m\u001b[0;34m\u001b[0m\u001b[0;34m\u001b[0m\u001b[0m\n\u001b[0;32m---> 11\u001b[0;31m \u001b[0mSongs\u001b[0m \u001b[0;34m=\u001b[0m \u001b[0mdf\u001b[0m\u001b[0;34m\u001b[0m\u001b[0;34m\u001b[0m\u001b[0m\n\u001b[0m\u001b[1;32m     12\u001b[0m \u001b[0;34m\u001b[0m\u001b[0m\n\u001b[1;32m     13\u001b[0m \u001b[0;31m# Group by artist and get the count\u001b[0m\u001b[0;34m\u001b[0m\u001b[0;34m\u001b[0m\u001b[0m\n",
            "\u001b[0;31mNameError\u001b[0m: name 'df' is not defined"
          ]
        }
      ],
      "source": [
        "import nltk\n",
        "from textblob import TextBlob\n",
        "import re\n",
        "from wordcloud import WordCloud\n",
        "import matplotlib.pyplot as plt\n",
        "import seaborn as sns\n",
        "\n",
        "nltk.download('vader_lexicon')\n",
        "\n",
        "# Create the music dataset frame (update according to the actual name of your dataset)\n",
        "Songs = df\n",
        "\n",
        "# Group by artist and get the count\n",
        "Songs_by_artist = Songs.groupby('artist').size().reset_index(name='n')\n",
        "\n",
        "# Select the top 100 artists\n",
        "top_100_artists = Songs_by_artist.nlargest(100, 'n')\n",
        "\n",
        "# Create a WordCloud\n",
        "wordcloud = WordCloud(width=1600, height=800, background_color='white').generate_from_frequencies(dict(zip(top_100_artists['artist'], top_100_artists['n'])))\n",
        "\n",
        "# Show the WordCloud\n",
        "plt.figure(figsize=(10, 5))\n",
        "plt.imshow(wordcloud, interpolation='bilinear')\n",
        "plt.axis('off')\n",
        "plt.show()\n"
      ]
    },
    {
      "cell_type": "markdown",
      "metadata": {
        "id": "YMZOTG6p5V_w"
      },
      "source": [
        "### Top Artists\n",
        "\n"
      ]
    },
    {
      "cell_type": "code",
      "execution_count": null,
      "metadata": {
        "colab": {
          "background_save": true,
          "base_uri": "https://localhost:8080/",
          "height": 564
        },
        "id": "C8zJ0GwA5f2A",
        "outputId": "c5a479f3-7692-4cc1-8b8c-80e3a47ca7d7"
      },
      "outputs": [
        {
          "data": {
            "image/png": "[encoded data removed]",
            "text/plain": [
              "<Figure size 800x600 with 1 Axes>"
            ]
          },
          "metadata": {},
          "output_type": "display_data"
        }
      ],
      "source": [
        "# Create DataFrame from Songs\n",
        "df = pd.DataFrame(Songs)\n",
        "\n",
        "# Get the total number of songs for each artist\n",
        "df = df.groupby('artist').size().reset_index(name='song')\n",
        "df = df.sort_values(by='song', ascending=False).head(20)\n",
        "df['artist'] = pd.Categorical(df['artist'], categories=df['artist'], ordered=True)\n",
        "\n",
        "# Visualization\n",
        "fig, ax = plt.subplots(figsize=(8, 6))\n",
        "bars = ax.barh(df['artist'], df['song'], color='steelblue')\n",
        "ax.set_xlim(0, 500)\n",
        "ax.set_xticks(range(0, 501, 50))\n",
        "ax.set_xlabel('Number of Songs')\n",
        "ax.set_title('Top 20 Artists with the Most Number of Songs')\n",
        "\n",
        "# Display values\n",
        "for bar in bars:\n",
        "    xval = bar.get_width()\n",
        "    ax.text(xval + 5, bar.get_y() + bar.get_height()/2, round(xval, 2), va='center', color='blue', fontweight='bold')\n",
        "\n",
        "plt.gca().invert_yaxis()  # Invert the y-axis\n",
        "plt.show()\n"
      ]
    },
    {
      "cell_type": "markdown",
      "metadata": {
        "id": "p0fIQ2AgvrZ1"
      },
      "source": [
        "### Data Sample\n"
      ]
    },
    {
      "cell_type": "code",
      "execution_count": null,
      "metadata": {
        "colab": {
          "base_uri": "https://localhost:8080/",
          "height": 321
        },
        "id": "iObbJSfAFpT5",
        "outputId": "e947d59e-e8af-47c6-fca4-eb25eeede7bb"
      },
      "outputs": [
        {
          "ename": "ValueError",
          "evalue": "Cannot take a larger sample than population when 'replace=False'",
          "output_type": "error",
          "traceback": [
            "\u001b[0;31m---------------------------------------------------------------------------\u001b[0m",
            "\u001b[0;31mValueError\u001b[0m                                Traceback (most recent call last)",
            "\u001b[0;32m<ipython-input-12-32f045477083>\u001b[0m in \u001b[0;36m<cell line: 1>\u001b[0;34m()\u001b[0m\n\u001b[0;32m----> 1\u001b[0;31m \u001b[0mdf\u001b[0m \u001b[0;34m=\u001b[0m \u001b[0mdf\u001b[0m\u001b[0;34m.\u001b[0m\u001b[0msample\u001b[0m\u001b[0;34m(\u001b[0m\u001b[0;36m5000\u001b[0m\u001b[0;34m)\u001b[0m\u001b[0;34m.\u001b[0m\u001b[0mdrop\u001b[0m\u001b[0;34m(\u001b[0m\u001b[0;34m'link'\u001b[0m\u001b[0;34m,\u001b[0m \u001b[0maxis\u001b[0m\u001b[0;34m=\u001b[0m\u001b[0;36m1\u001b[0m\u001b[0;34m)\u001b[0m\u001b[0;34m.\u001b[0m\u001b[0mreset_index\u001b[0m\u001b[0;34m(\u001b[0m\u001b[0mdrop\u001b[0m\u001b[0;34m=\u001b[0m\u001b[0;32mTrue\u001b[0m\u001b[0;34m)\u001b[0m\u001b[0;34m\u001b[0m\u001b[0;34m\u001b[0m\u001b[0m\n\u001b[0m",
            "\u001b[0;32m/usr/local/lib/python3.10/dist-packages/pandas/core/generic.py\u001b[0m in \u001b[0;36msample\u001b[0;34m(self, n, frac, replace, weights, random_state, axis, ignore_index)\u001b[0m\n\u001b[1;32m   5856\u001b[0m             \u001b[0mweights\u001b[0m \u001b[0;34m=\u001b[0m \u001b[0msample\u001b[0m\u001b[0;34m.\u001b[0m\u001b[0mpreprocess_weights\u001b[0m\u001b[0;34m(\u001b[0m\u001b[0mself\u001b[0m\u001b[0;34m,\u001b[0m \u001b[0mweights\u001b[0m\u001b[0;34m,\u001b[0m \u001b[0maxis\u001b[0m\u001b[0;34m)\u001b[0m\u001b[0;34m\u001b[0m\u001b[0;34m\u001b[0m\u001b[0m\n\u001b[1;32m   5857\u001b[0m \u001b[0;34m\u001b[0m\u001b[0m\n\u001b[0;32m-> 5858\u001b[0;31m         \u001b[0msampled_indices\u001b[0m \u001b[0;34m=\u001b[0m \u001b[0msample\u001b[0m\u001b[0;34m.\u001b[0m\u001b[0msample\u001b[0m\u001b[0;34m(\u001b[0m\u001b[0mobj_len\u001b[0m\u001b[0;34m,\u001b[0m \u001b[0msize\u001b[0m\u001b[0;34m,\u001b[0m \u001b[0mreplace\u001b[0m\u001b[0;34m,\u001b[0m \u001b[0mweights\u001b[0m\u001b[0;34m,\u001b[0m \u001b[0mrs\u001b[0m\u001b[0;34m)\u001b[0m\u001b[0;34m\u001b[0m\u001b[0;34m\u001b[0m\u001b[0m\n\u001b[0m\u001b[1;32m   5859\u001b[0m         \u001b[0mresult\u001b[0m \u001b[0;34m=\u001b[0m \u001b[0mself\u001b[0m\u001b[0;34m.\u001b[0m\u001b[0mtake\u001b[0m\u001b[0;34m(\u001b[0m\u001b[0msampled_indices\u001b[0m\u001b[0;34m,\u001b[0m \u001b[0maxis\u001b[0m\u001b[0;34m=\u001b[0m\u001b[0maxis\u001b[0m\u001b[0;34m)\u001b[0m\u001b[0;34m\u001b[0m\u001b[0;34m\u001b[0m\u001b[0m\n\u001b[1;32m   5860\u001b[0m \u001b[0;34m\u001b[0m\u001b[0m\n",
            "\u001b[0;32m/usr/local/lib/python3.10/dist-packages/pandas/core/sample.py\u001b[0m in \u001b[0;36msample\u001b[0;34m(obj_len, size, replace, weights, random_state)\u001b[0m\n\u001b[1;32m    149\u001b[0m             \u001b[0;32mraise\u001b[0m \u001b[0mValueError\u001b[0m\u001b[0;34m(\u001b[0m\u001b[0;34m\"Invalid weights: weights sum to zero\"\u001b[0m\u001b[0;34m)\u001b[0m\u001b[0;34m\u001b[0m\u001b[0;34m\u001b[0m\u001b[0m\n\u001b[1;32m    150\u001b[0m \u001b[0;34m\u001b[0m\u001b[0m\n\u001b[0;32m--> 151\u001b[0;31m     return random_state.choice(obj_len, size=size, replace=replace, p=weights).astype(\n\u001b[0m\u001b[1;32m    152\u001b[0m         \u001b[0mnp\u001b[0m\u001b[0;34m.\u001b[0m\u001b[0mintp\u001b[0m\u001b[0;34m,\u001b[0m \u001b[0mcopy\u001b[0m\u001b[0;34m=\u001b[0m\u001b[0;32mFalse\u001b[0m\u001b[0;34m\u001b[0m\u001b[0;34m\u001b[0m\u001b[0m\n\u001b[1;32m    153\u001b[0m     )\n",
            "\u001b[0;32mmtrand.pyx\u001b[0m in \u001b[0;36mnumpy.random.mtrand.RandomState.choice\u001b[0;34m()\u001b[0m\n",
            "\u001b[0;31mValueError\u001b[0m: Cannot take a larger sample than population when 'replace=False'"
          ]
        }
      ],
      "source": [
        "df = df.sample(5000).drop('link', axis=1).reset_index(drop=True)"
      ]
    },
    {
      "cell_type": "markdown",
      "metadata": {
        "id": "TEzBCz7rF3Gi"
      },
      "source": [
        "### Sample dataFrame info"
      ]
    },
    {
      "cell_type": "code",
      "execution_count": null,
      "metadata": {
        "id": "zKZyetDLF3tj"
      },
      "outputs": [],
      "source": [
        "df.head(10)"
      ]
    },
    {
      "cell_type": "code",
      "execution_count": null,
      "metadata": {
        "id": "N0oAI6DsF6wS"
      },
      "outputs": [],
      "source": [
        "df['text'][0]"
      ]
    },
    {
      "cell_type": "code",
      "execution_count": null,
      "metadata": {
        "id": "d1FHNONUGDWq"
      },
      "outputs": [],
      "source": [
        "df = df.sample(5000)"
      ]
    },
    {
      "cell_type": "code",
      "execution_count": null,
      "metadata": {
        "id": "9um5-x-jGEEq"
      },
      "outputs": [],
      "source": [
        "df.shape"
      ]
    },
    {
      "cell_type": "markdown",
      "metadata": {
        "id": "z-jPzx5cGGQq"
      },
      "source": [
        "### Lyrics Text Cleaning"
      ]
    },
    {
      "cell_type": "code",
      "execution_count": null,
      "metadata": {
        "id": "Eimu8PbKGK96"
      },
      "outputs": [],
      "source": [
        "df['text'] = df['text'].str.lower().replace(r'^\\w\\s', ' ').replace(r'\\n', ' ', regex = True)"
      ]
    },
    {
      "cell_type": "markdown",
      "metadata": {
        "id": "vDvcly3LGKGq"
      },
      "source": [
        "### Lyrics Tokenizatoin"
      ]
    },
    {
      "cell_type": "code",
      "execution_count": null,
      "metadata": {
        "id": "3WQHYu1sGSbS"
      },
      "outputs": [],
      "source": [
        "import nltk\n",
        "from nltk.stem.porter import PorterStemmer\n",
        "stemmer = PorterStemmer()\n",
        "\n",
        "def tokenization(txt):\n",
        "    tokens = nltk.word_tokenize(txt)\n",
        "    stemming = [stemmer.stem(w) for w in tokens]\n",
        "    return \" \".join(stemming)"
      ]
    },
    {
      "cell_type": "markdown",
      "metadata": {
        "id": "3hhly1_grrJW"
      },
      "source": [
        "### TF-IDF Vectorization"
      ]
    },
    {
      "cell_type": "code",
      "execution_count": null,
      "metadata": {
        "id": "JGAlYrTNmRsr"
      },
      "outputs": [],
      "source": [
        "from sklearn.feature_extraction.text import TfidfVectorizer\n",
        "from sklearn.metrics.pairwise import cosine_similarity"
      ]
    },
    {
      "cell_type": "code",
      "execution_count": null,
      "metadata": {
        "id": "zZ_j5XQ7mT6y"
      },
      "outputs": [],
      "source": [
        "tfidvector = TfidfVectorizer(analyzer='word',stop_words='english')\n",
        "matrix = tfidvector.fit_transform(df['text'])\n",
        "similarity = cosine_similarity(matrix)"
      ]
    },
    {
      "cell_type": "code",
      "execution_count": null,
      "metadata": {
        "id": "OtB0H2dimWMq"
      },
      "outputs": [],
      "source": [
        "similarity[0]"
      ]
    },
    {
      "cell_type": "code",
      "execution_count": null,
      "metadata": {
        "id": "N_xERa6mmYuC"
      },
      "outputs": [],
      "source": [
        "df[df['song'] == 'California']"
      ]
    },
    {
      "cell_type": "markdown",
      "metadata": {
        "id": "fs0IMGQZsW1G"
      },
      "source": [
        "### Recommendation Function"
      ]
    },
    {
      "cell_type": "code",
      "execution_count": null,
      "metadata": {
        "id": "tpj5mFm3pE4m"
      },
      "outputs": [],
      "source": [
        "def recommendation(song_name, df, similarity, num_recommendations=10):\n",
        "    if song_name not in df['song'].values:\n",
        "        return \"Song not found.\"\n",
        "\n",
        "    idx = df[df['song'] == song_name].index[0]\n",
        "    distances = sorted(list(enumerate(similarity[idx])), key=lambda x: x[1], reverse=True)\n",
        "\n",
        "    songs = []\n",
        "    for i in range(1, num_recommendations + 1):  # Start from 1 to skip the song itself\n",
        "        if i < len(distances):  # Check to prevent index error\n",
        "            song_id = distances[i][0]\n",
        "            songs.append(df.iloc[song_id].song)\n",
        "        else:\n",
        "            break  # Exit loop if there are fewer songs than num_recommendations\n",
        "\n",
        "    return songs"
      ]
    },
    {
      "cell_type": "code",
      "execution_count": null,
      "metadata": {
        "id": "SY9ihDYApEt2"
      },
      "outputs": [],
      "source": [
        "song_name = 'California'\n",
        "recommendations = recommendation(song_name, df, similarity)\n",
        "print(\"Recommended Songs:\")\n",
        "for song in recommendations:\n",
        "    print(song)"
      ]
    },
    {
      "cell_type": "markdown",
      "metadata": {
        "id": "ir0wLdWvnKzh"
      },
      "source": []
    },
    {
      "cell_type": "code",
      "execution_count": null,
      "metadata": {
        "id": "eGAivOwvnWmB"
      },
      "outputs": [],
      "source": [
        "import pickle\n",
        "pickle.dump(similarity,open('similarity.pkl','wb'))\n",
        "pickle.dump(df,open('df.pkl','wb'))"
      ]
    }
  ],
  "metadata": {
    "colab": {
      "provenance": [],
      "collapsed_sections": [
        "5fZM0cMPTScL"
      ]
    },
    "kernelspec": {
      "display_name": "Python 3",
      "name": "python3"
    },
    "language_info": {
      "name": "python"
    }
  },
  "nbformat": 4,
  "nbformat_minor": 0
}